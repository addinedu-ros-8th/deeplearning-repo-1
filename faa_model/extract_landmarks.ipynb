{
 "cells": [
  {
   "cell_type": "code",
   "execution_count": 2,
   "metadata": {},
   "outputs": [
    {
     "name": "stderr",
     "output_type": "stream",
     "text": [
      "2025-03-26 13:44:11.126522: E external/local_xla/xla/stream_executor/cuda/cuda_fft.cc:467] Unable to register cuFFT factory: Attempting to register factory for plugin cuFFT when one has already been registered\n",
      "WARNING: All log messages before absl::InitializeLog() is called are written to STDERR\n",
      "E0000 00:00:1742964251.218612    6919 cuda_dnn.cc:8579] Unable to register cuDNN factory: Attempting to register factory for plugin cuDNN when one has already been registered\n",
      "E0000 00:00:1742964251.245301    6919 cuda_blas.cc:1407] Unable to register cuBLAS factory: Attempting to register factory for plugin cuBLAS when one has already been registered\n",
      "W0000 00:00:1742964251.452502    6919 computation_placer.cc:177] computation placer already registered. Please check linkage and avoid linking the same target more than once.\n",
      "W0000 00:00:1742964251.452520    6919 computation_placer.cc:177] computation placer already registered. Please check linkage and avoid linking the same target more than once.\n",
      "W0000 00:00:1742964251.452521    6919 computation_placer.cc:177] computation placer already registered. Please check linkage and avoid linking the same target more than once.\n",
      "W0000 00:00:1742964251.452522    6919 computation_placer.cc:177] computation placer already registered. Please check linkage and avoid linking the same target more than once.\n",
      "2025-03-26 13:44:11.475610: I tensorflow/core/platform/cpu_feature_guard.cc:210] This TensorFlow binary is optimized to use available CPU instructions in performance-critical operations.\n",
      "To enable the following instructions: AVX2 FMA, in other operations, rebuild TensorFlow with the appropriate compiler flags.\n"
     ]
    }
   ],
   "source": [
    "import cv2\n",
    "import os\n",
    "import pickle\n",
    "import mediapipe as mp\n",
    "from tqdm import tqdm\n",
    "from IPython.display import clear_output"
   ]
  },
  {
   "cell_type": "code",
   "execution_count": null,
   "metadata": {},
   "outputs": [
    {
     "name": "stderr",
     "output_type": "stream",
     "text": [
      "I0000 00:00:1742964453.390304    6919 gl_context_egl.cc:85] Successfully initialized EGL. Major : 1 Minor: 5\n",
      "I0000 00:00:1742964453.391735    7859 gl_context.cc:369] GL version: 3.2 (OpenGL ES 3.2 Mesa 24.2.8-1ubuntu1~24.04.1), renderer: Mesa Intel(R) UHD Graphics (CML GT2)\n",
      "I0000 00:00:1742964453.412801    6919 gl_context_egl.cc:85] Successfully initialized EGL. Major : 1 Minor: 5\n",
      "I0000 00:00:1742964453.416370    7874 gl_context.cc:369] GL version: 3.2 (OpenGL ES 3.2 Mesa 24.2.8-1ubuntu1~24.04.1), renderer: Mesa Intel(R) UHD Graphics (CML GT2)\n",
      "  0%|          | 0/14 [00:00<?, ?it/s]"
     ]
    },
    {
     "name": "stderr",
     "output_type": "stream",
     "text": [
      "W0000 00:00:1742964453.484814    7848 inference_feedback_manager.cc:114] Feedback manager requires a model with a single signature inference. Disabling support for feedback tensors.\n",
      "W0000 00:00:1742964453.530235    7861 inference_feedback_manager.cc:114] Feedback manager requires a model with a single signature inference. Disabling support for feedback tensors.\n",
      "W0000 00:00:1742964453.538175    7845 inference_feedback_manager.cc:114] Feedback manager requires a model with a single signature inference. Disabling support for feedback tensors.\n",
      "W0000 00:00:1742964453.599064    7862 inference_feedback_manager.cc:114] Feedback manager requires a model with a single signature inference. Disabling support for feedback tensors.\n",
      " 21%|██▏       | 3/14 [01:08<04:54, 26.76s/it]"
     ]
    }
   ],
   "source": [
    "# 데이터셋 경로\n",
    "DATASET_DIR = '/home/shin/deeplearning-repo-1/dataset/stand_knee_raise'\n",
    "\n",
    "# 좌표 추출 운동 설정\n",
    "exericse_name = \"스탠딩 니업\"\n",
    "\n",
    "pickle_name = exericse_name + \".pkl\"\n",
    "\n",
    "exericse_type = [\"가만히\", \"스탠딩 니업\", \"숄더프레스\", \"스쿼트\", \"프론트 런지\", \"푸시업\", \"브릿지\", \"스탠딩 바이시클\", \"사이드 런지\"]\n",
    "exericse_label = exericse_type.index(exericse_name)\n",
    "\n",
    "# 시퀀스 사이즈\n",
    "SEQUENCE_LENGTH = 20\n",
    "\n",
    "# mediapipe 선언\n",
    "mp_pose = mp.solutions.pose\n",
    "pose = mp_pose.Pose(static_image_mode=False, min_detection_confidence=0.5)\n",
    "\n",
    "sequences = []\n",
    "labels = []\n",
    "landmark_points = [ 11, 12, 13, 14, 15, 16, 23, 24, 25, 26, 27, 28 ]\n",
    "\n",
    "with mp_pose.Pose(static_image_mode=False, min_detection_confidence=0.5) as pose:\n",
    "    for video_file in tqdm(os.listdir(DATASET_DIR)):\n",
    "        video_path = os.path.join(DATASET_DIR, video_file)\n",
    "        cap = cv2.VideoCapture(video_path)\n",
    "        frames = []\n",
    "        while cap.isOpened():\n",
    "            ret, frame = cap.read()\n",
    "            if not ret:\n",
    "                break\n",
    "            frame_rgb = cv2.cvtColor(frame, cv2.COLOR_BGR2RGB)\n",
    "            results = pose.process(frame_rgb)\n",
    "            if results.pose_landmarks:\n",
    "                landmarks = []\n",
    "\n",
    "                lm = results.pose_landmarks.landmark\n",
    "\n",
    "                # 기준점\n",
    "                neck_x = (lm[11].x + lm[12].x) / 2\n",
    "                neck_y = (lm[11].y + lm[12].y) / 2\n",
    "                neck_z = (lm[11].z + lm[12].z) / 2\n",
    "\n",
    "                for idx in landmark_points:\n",
    "                    x = lm[idx].x - neck_x\n",
    "                    y = lm[idx].y - neck_y\n",
    "                    z = lm[idx].z - neck_z\n",
    "                    landmarks.extend([x, y, z])\n",
    "                frames.append(landmarks)\n",
    "                if len(frames) >= SEQUENCE_LENGTH:\n",
    "                    sequences.append(frames[-SEQUENCE_LENGTH:])\n",
    "                    labels.append(exericse_label)\n",
    "        cap.release()"
   ]
  },
  {
   "cell_type": "code",
   "execution_count": null,
   "metadata": {},
   "outputs": [
    {
     "name": "stdout",
     "output_type": "stream",
     "text": [
      "가만히 데이터 저장 완료!\n"
     ]
    }
   ],
   "source": [
    "with open(pickle_name, 'wb') as f:\n",
    "    pickle.dump((sequences, labels), f)\n",
    "\n",
    "    print(exericse_name + \" 데이터 저장 완료!\")"
   ]
  }
 ],
 "metadata": {
  "kernelspec": {
   "display_name": "project",
   "language": "python",
   "name": "python3"
  },
  "language_info": {
   "codemirror_mode": {
    "name": "ipython",
    "version": 3
   },
   "file_extension": ".py",
   "mimetype": "text/x-python",
   "name": "python",
   "nbconvert_exporter": "python",
   "pygments_lexer": "ipython3",
   "version": "3.12.3"
  }
 },
 "nbformat": 4,
 "nbformat_minor": 2
}
